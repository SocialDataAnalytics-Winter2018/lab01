{
 "cells": [
  {
   "cell_type": "markdown",
   "metadata": {},
   "source": [
    "# Lab 01 - Introduction to Python\n",
    "\n",
    "This lab is an introduction to Python, a programming language which can beused for not only social data analytical tasks, but also general interest programming, statistical analysis, and other data science-type tasks. Python is a language which has been around for over 10 years, has a vibrant community, and an open-source codebase. This means that if you have an issue with Python, there are many resources available for solving this issue."
   ]
  },
  {
   "cell_type": "markdown",
   "metadata": {},
   "source": [
    "## Setup -- Downloading the Lab\n",
    "\n",
    "The very first thing you want to do is download the lab we're working with today. The whole course is uploaded to the site GitHub. GitHub is a website which stores what are called \"repositories.\" Repositories contain code, images, data, basically anything we want it to within reason. The [course syllabus](https://github.com/SocialDataAnalytics-Winter2018/course-info) links you back to all the labs your using in this course. Each lab is a repository which you can download."
   ]
  },
  {
   "cell_type": "markdown",
   "metadata": {},
   "source": [
    "To begin, go to the [page for this lab](https://github.com/SocialDataAnalytics-Winter2018/lab01). It should look something like this."
   ]
  },
  {
   "cell_type": "markdown",
   "metadata": {},
   "source": [
    "![](img/lab01-page.png)"
   ]
  },
  {
   "cell_type": "markdown",
   "metadata": {},
   "source": [
    "There's a few ways to download the lab. The easiest way will be to click the \"Clone or download\" button, then click \"Download Zip\". "
   ]
  },
  {
   "cell_type": "markdown",
   "metadata": {},
   "source": [
    "![](img/lab01-download.png)"
   ]
  },
  {
   "cell_type": "markdown",
   "metadata": {},
   "source": [
    "Once you've downloaded this, go ahead and unzip the file. Remember where you stored it: we're going to come back to it later."
   ]
  },
  {
   "cell_type": "markdown",
   "metadata": {},
   "source": [
    "## Setup -- Python\n",
    "\n",
    "The version of Python we're using in this course is [Anaconda Python](https://www.continuum.io/downloads), Python 3.6 version. We're using this because there are many data science tools which come included automatically. We don't have to go through the trouble of installing anything else for what we plan to do."
   ]
  },
  {
   "cell_type": "markdown",
   "metadata": {},
   "source": [
    "This will start a program which will give you a host of tools for writing Python code. For this class we will be using Jupyter Notebook, which is a way to put your code and notes about that code (called *documentation*) in the same file. The file you're looking at now was written in Jupyter Notebook."
   ]
  },
  {
   "cell_type": "markdown",
   "metadata": {},
   "source": [
    "Start the Jupyter Notebook by clicking Launch."
   ]
  },
  {
   "cell_type": "markdown",
   "metadata": {},
   "source": [
    "![Jupyter Notebook](img/01a-jupyter.png)"
   ]
  },
  {
   "cell_type": "markdown",
   "metadata": {},
   "source": [
    "After that you will get a window which looks like this. It will list a bunch of files. You should navigate to the location where you downloaded the lab. The folder will be <code>lab01-master</code>. If you entered the file correctly, it should look something like this."
   ]
  },
  {
   "cell_type": "markdown",
   "metadata": {},
   "source": [
    "![](img/lab01-notebook.png)"
   ]
  },
  {
   "cell_type": "markdown",
   "metadata": {},
   "source": [
    "Click on the file called \"Lab 01 - Introduction to Python.ipynb\". This will open a new window which will just be a copy of this document."
   ]
  },
  {
   "cell_type": "markdown",
   "metadata": {},
   "source": [
    "Jupyter Notebooks work by operating on what are called *cells*. Those are the boxes which make up the notebook. A new cell will start with <code>In [ ]</code> and by default will take Python code. You can change the cell type by selecting content types in the center of the toolbar. The two types we want to focus on are Markdown and Code. Markdown is a markup language which let's you create headers, lists, and emphasis. "
   ]
  },
  {
   "cell_type": "markdown",
   "metadata": {},
   "source": [
    "That's pretty much it when it comes to Jupyter Notebooks. Now, let's get to learning the mechanics of the Python programming language."
   ]
  },
  {
   "cell_type": "markdown",
   "metadata": {},
   "source": [
    "## Running Python"
   ]
  },
  {
   "cell_type": "markdown",
   "metadata": {},
   "source": [
    "The way we actually begin running Python is by creating a new cell. You can create a new cell by selecting the Insert menu bar tab and clicking \"Insert Cell Below\". Once you've created a new cell, we can write code in it. We can run it by pressing the \"Play\" button at the top of the window. \n",
    "\n",
    "![Jupyter Notebook Play](img/jupyter-header-play.png)\n",
    "\n",
    "Select the cell below this one and pressing Play."
   ]
  },
  {
   "cell_type": "code",
   "execution_count": null,
   "metadata": {},
   "outputs": [],
   "source": [
    "print(\"Hello World!\")"
   ]
  },
  {
   "cell_type": "markdown",
   "metadata": {},
   "source": [
    "You can also run the code in a cell by selecting it and pressing Shift + Enter. \n",
    "\n",
    "You'll know that code has successfully run if there's the word `In` plus a number in square brackets next to it. If everything went correctly in the cell above this one it should say `In [1]` to the left."
   ]
  },
  {
   "cell_type": "markdown",
   "metadata": {},
   "source": [
    "However, sometimes we run a piece of code and it won't quite act like we expect. It may take a long time to run and never finish. For this, we'll see `In [*]`. This often happens when we accidentally run an infinite loop. To exit out of this, try hitting the Stop button.\n",
    "\n",
    "![Jupyter Notebook Stop](img/jupyter-header-stop.png)\n"
   ]
  },
  {
   "cell_type": "code",
   "execution_count": null,
   "metadata": {},
   "outputs": [],
   "source": [
    "while True:\n",
    "    a = 1"
   ]
  },
  {
   "cell_type": "markdown",
   "metadata": {},
   "source": [
    "If everything is going wrong and nothing seems to work, you can use the Restart Kernel button, which looks like a reload button on a web browser. *WARNING*: this will reset all your variables, so only use when things have gone completely wrong.\n",
    "\n",
    "![Jupyter Notebook Restart](img/jupyter-header-restart.png)"
   ]
  },
  {
   "cell_type": "markdown",
   "metadata": {},
   "source": [
    "## Python Types\n",
    "\n",
    "There are several different *types* available in Python. Python *objects* can take on any one of these types. \n",
    "\n",
    "Basic numbers can take on several type, the two most important being *integers* (e.g. 1, 2, -5) and *floating point* number or *floats* (e.g. 1.3, 0.5)."
   ]
  },
  {
   "cell_type": "markdown",
   "metadata": {},
   "source": [
    "These are types. These are a thing."
   ]
  },
  {
   "cell_type": "code",
   "execution_count": null,
   "metadata": {
    "collapsed": true
   },
   "outputs": [],
   "source": [
    "## Integers are just numbers. Cool.\n",
    "1\n",
    "2\n",
    "-5\n",
    "\n",
    "## Floats\n",
    "1.4\n",
    "20.3453\n",
    "\n",
    "## This is a comment"
   ]
  },
  {
   "cell_type": "markdown",
   "metadata": {},
   "source": [
    "You can add documentation with *comments*. Comments start with the `#` character. There are many different types in Python. For today, we'll cover strings and booleans."
   ]
  },
  {
   "cell_type": "markdown",
   "metadata": {},
   "source": [
    "## Strings\n",
    "\n",
    "*Strings* are bits of text."
   ]
  },
  {
   "cell_type": "code",
   "execution_count": null,
   "metadata": {
    "collapsed": true
   },
   "outputs": [],
   "source": [
    "'This is a string'"
   ]
  },
  {
   "cell_type": "code",
   "execution_count": null,
   "metadata": {
    "collapsed": true
   },
   "outputs": [],
   "source": [
    "'This is another string.'"
   ]
  },
  {
   "cell_type": "markdown",
   "metadata": {},
   "source": [
    "You can also put two strings together with a plus sign."
   ]
  },
  {
   "cell_type": "code",
   "execution_count": null,
   "metadata": {
    "collapsed": true
   },
   "outputs": [],
   "source": [
    "\"This is a string.\" + \" \" + \"This is another string.\""
   ]
  },
  {
   "cell_type": "markdown",
   "metadata": {},
   "source": [
    "*Booleans* are logical values. Booleans can be denoted by keywords or logical statements. The major keywords in Python are <code>True</code>, <code>False</code>."
   ]
  },
  {
   "cell_type": "code",
   "execution_count": null,
   "metadata": {
    "collapsed": true
   },
   "outputs": [],
   "source": [
    "True\n",
    "False"
   ]
  },
  {
   "cell_type": "markdown",
   "metadata": {},
   "source": [
    "We'll be more into logical statements and operators below."
   ]
  },
  {
   "cell_type": "markdown",
   "metadata": {},
   "source": [
    "## Arithmetic\n",
    "\n",
    "Let's start off easy. Python can function as a simple calculator with all the usual operations: addition, subtraction, multiplication, and division."
   ]
  },
  {
   "cell_type": "code",
   "execution_count": null,
   "metadata": {
    "collapsed": true
   },
   "outputs": [],
   "source": [
    "1 + 3 # addition"
   ]
  },
  {
   "cell_type": "code",
   "execution_count": null,
   "metadata": {
    "collapsed": true
   },
   "outputs": [],
   "source": [
    "3 - 5 # subtraction"
   ]
  },
  {
   "cell_type": "code",
   "execution_count": null,
   "metadata": {
    "collapsed": true
   },
   "outputs": [],
   "source": [
    "4 * 10 # multiplication"
   ]
  },
  {
   "cell_type": "code",
   "execution_count": null,
   "metadata": {
    "collapsed": true
   },
   "outputs": [],
   "source": [
    "10 / 3 # division"
   ]
  },
  {
   "cell_type": "markdown",
   "metadata": {},
   "source": [
    "Python will also obey the usual order of operations."
   ]
  },
  {
   "cell_type": "code",
   "execution_count": null,
   "metadata": {
    "collapsed": true
   },
   "outputs": [],
   "source": [
    "1 + 3 * 5 + 10"
   ]
  },
  {
   "cell_type": "markdown",
   "metadata": {},
   "source": [
    "But you can also use parentheses to order operations as you'd like."
   ]
  },
  {
   "cell_type": "code",
   "execution_count": null,
   "metadata": {
    "collapsed": true
   },
   "outputs": [],
   "source": [
    "(1 + 3) * 5 + 10"
   ]
  },
  {
   "cell_type": "markdown",
   "metadata": {},
   "source": [
    "You can also do basic operations like exponentials as built-in operations."
   ]
  },
  {
   "cell_type": "code",
   "execution_count": null,
   "metadata": {
    "collapsed": true
   },
   "outputs": [],
   "source": [
    "10**2"
   ]
  },
  {
   "cell_type": "code",
   "execution_count": null,
   "metadata": {
    "collapsed": true
   },
   "outputs": [],
   "source": [
    "64**0.5"
   ]
  },
  {
   "cell_type": "markdown",
   "metadata": {},
   "source": [
    "**Exercise 1**: Try to do some arithmetic yourself for a few minutes. \n",
    "\n",
    "1. What seems to work? What gives you an error?\n",
    "2. What happens when you try to add a number with a boolean or string?"
   ]
  },
  {
   "cell_type": "markdown",
   "metadata": {},
   "source": [
    "## Variables\n",
    "\n",
    "Usually you want to use a representation of an object, instead of the object itself. This helps because you can use it later and name it something descriptive. You can also manipulate them in place of numbers."
   ]
  },
  {
   "cell_type": "code",
   "execution_count": null,
   "metadata": {
    "collapsed": true
   },
   "outputs": [],
   "source": [
    "height_cm = 200.\n",
    "weight_kg = 75"
   ]
  },
  {
   "cell_type": "code",
   "execution_count": null,
   "metadata": {
    "collapsed": true
   },
   "outputs": [],
   "source": [
    "bmi = weight_kg / (height_cm**2) * 10**4\n",
    "bmi"
   ]
  },
  {
   "cell_type": "markdown",
   "metadata": {},
   "source": [
    "So far, we have been printing out variables by typing them, but you can also print out using the <code>print</code> function. A *function* is a bit of code which you can reuse in other parts of the code. There are many different built-in functions that come with Python. "
   ]
  },
  {
   "cell_type": "code",
   "execution_count": null,
   "metadata": {
    "collapsed": true
   },
   "outputs": [],
   "source": [
    "print(bmi)"
   ]
  },
  {
   "cell_type": "markdown",
   "metadata": {},
   "source": [
    "You can also store strings or booleans in variables and treat them like usual."
   ]
  },
  {
   "cell_type": "code",
   "execution_count": null,
   "metadata": {
    "collapsed": true
   },
   "outputs": [],
   "source": [
    "first_name = \"john\"\n",
    "last_name = \"smith\"\n",
    "\n",
    "name = first_name + \" \" + last_name\n",
    "print(name)"
   ]
  },
  {
   "cell_type": "code",
   "execution_count": null,
   "metadata": {
    "collapsed": true
   },
   "outputs": [],
   "source": [
    "truth = True\n",
    "false = False\n",
    "\n",
    "result = truth and false ## and is a logical operator \n",
    "print(result)"
   ]
  },
  {
   "cell_type": "markdown",
   "metadata": {},
   "source": [
    "## Data structures\n",
    "\n",
    "*Data structures* are objects which hold other objects. Over the course of the term, we're going to learn about several different ones which are better suited for statistical and data analysis. For now, we will focus on three which are part of the base Python package: *lists*, *dictionaries*, and *tuples*. They each are good for particular things."
   ]
  },
  {
   "cell_type": "markdown",
   "metadata": {},
   "source": [
    "### Lists\n",
    "\n",
    "*Lists* are ordered groupings of items. Usually every item in the list is of the same type."
   ]
  },
  {
   "cell_type": "code",
   "execution_count": null,
   "metadata": {
    "collapsed": true
   },
   "outputs": [],
   "source": [
    "numbers = [1, 2, 3, 4]\n",
    "numbers_as_words = [\"one\", \"two\", \"three\"]\n",
    "list_of_lists = [[1, 2, 3], [4, 5, 6], [7, 8, 9]] # list of lists"
   ]
  },
  {
   "cell_type": "markdown",
   "metadata": {},
   "source": [
    "Lists are also what can call *mutable*. What that means is you add elements to the end or even the middle of a list."
   ]
  },
  {
   "cell_type": "code",
   "execution_count": null,
   "metadata": {},
   "outputs": [],
   "source": [
    "mutable_list = [] # this list is empty\n",
    "mutable_list.append(1)\n",
    "mutable_list.append(3)\n",
    "mutable_list.append(5)\n",
    "mutable_list"
   ]
  },
  {
   "cell_type": "markdown",
   "metadata": {},
   "source": [
    "Once you're created a list, you need to be able to access the elements of the list. You can do this using an *index*, starting at 0. <code>list_1</code> for instance, begins at index 0 and ends at index 3."
   ]
  },
  {
   "cell_type": "code",
   "execution_count": null,
   "metadata": {
    "collapsed": true
   },
   "outputs": [],
   "source": [
    "powers_of_two = [1, 2, 4, 8]\n",
    "##               0  1  2  3"
   ]
  },
  {
   "cell_type": "markdown",
   "metadata": {},
   "source": [
    "You can also access *slices* of lists, which represent parts of the list."
   ]
  },
  {
   "cell_type": "code",
   "execution_count": null,
   "metadata": {
    "collapsed": true
   },
   "outputs": [],
   "source": [
    "list_4 = [1, 2, 3, 4, 5, 6, 7, 8, 9, 10] \n",
    "first_half = list_4[:5]   \n",
    "second_half = list_4[5:] "
   ]
  },
  {
   "cell_type": "code",
   "execution_count": null,
   "metadata": {},
   "outputs": [],
   "source": [
    "first_half"
   ]
  },
  {
   "cell_type": "code",
   "execution_count": null,
   "metadata": {},
   "outputs": [],
   "source": [
    "second_half"
   ]
  },
  {
   "cell_type": "markdown",
   "metadata": {},
   "source": [
    "To check that we have the same list, we can use <code>extend</code> which will add the elements of one list to another."
   ]
  },
  {
   "cell_type": "code",
   "execution_count": null,
   "metadata": {},
   "outputs": [],
   "source": [
    "first_half.extend(second_half)\n",
    "first_half"
   ]
  },
  {
   "cell_type": "markdown",
   "metadata": {},
   "source": [
    "**Exercise 2**\n",
    "\n",
    "1. Create a list that contains the first five numbers in the Fibonacci sequence: 1, 1, 3, 4, 7. Call it `fib`.\n",
    "2. Create a list that contains the names of members of the [Dora Milaje](https://en.wikipedia.org/wiki/Dora_Milaje): Aneka, Ayo, Okoye, and Nakia. Call it `dora`.\n",
    "3. Print Okoye by indexing the `dora` list.\n",
    "4. The `trek_leads` list below is a list of lists. In the first list are the surnames of Star Trek captains/leads. In the second list is the first year they appear in the Star Trek Universe. Print out the years associated with Janeway, Archer, and Burnham. You'll need to use two indices and list slices."
   ]
  },
  {
   "cell_type": "code",
   "execution_count": null,
   "metadata": {
    "collapsed": true
   },
   "outputs": [],
   "source": [
    "trek_leads = [['Kirk', 'Picard', 'Sisko', 'Janeway', 'Archer', 'Burnham'], \n",
    "              [2265, 2364, 2369, 2371, 2151, 2156]]"
   ]
  },
  {
   "cell_type": "markdown",
   "metadata": {},
   "source": [
    "### Dictionaries\n",
    "\n",
    "*Dictionaries* are unordered key-value pairs. This means that the way you index a dictionary is to use a key, rather than a number. This is useful when you want to use a string to access an item."
   ]
  },
  {
   "cell_type": "code",
   "execution_count": null,
   "metadata": {
    "collapsed": true
   },
   "outputs": [],
   "source": [
    "mayors = {\n",
    "    \"rob\": \"ford\",\n",
    "    \"john\": \"tory\"\n",
    "}\n",
    "\n",
    "us_election = {\n",
    "    \"hillary\": \"clinton\",\n",
    "    \"donald\": \"trump\"    \n",
    "}\n",
    "\n",
    "prime_ministers = {\n",
    "    \"justin\": \"trudeau\",\n",
    "    \"stephen\": \"harper\"\n",
    "}"
   ]
  },
  {
   "cell_type": "markdown",
   "metadata": {},
   "source": [
    "To access an element, you index by key name, rather than by a number."
   ]
  },
  {
   "cell_type": "code",
   "execution_count": null,
   "metadata": {},
   "outputs": [],
   "source": [
    "us_election['donald']"
   ]
  },
  {
   "cell_type": "markdown",
   "metadata": {},
   "source": [
    "You don't have to restrict your value to a string. You can make the value a list, a tuple, or a new dictionary."
   ]
  },
  {
   "cell_type": "code",
   "execution_count": null,
   "metadata": {
    "collapsed": true
   },
   "outputs": [],
   "source": [
    "list_dictionary = {\n",
    "    \"numbers\": [1, 2, 3],\n",
    "    \"strings\": [\"one\", \"two\", \"three\"],\n",
    "    \"tuple\": (1, 2, 3)\n",
    "}"
   ]
  },
  {
   "cell_type": "code",
   "execution_count": null,
   "metadata": {
    "collapsed": true
   },
   "outputs": [],
   "source": [
    "list_dictionary[\"tuple\"]"
   ]
  },
  {
   "cell_type": "markdown",
   "metadata": {},
   "source": [
    "### Tuples\n",
    "\n",
    "*Tuples* are similar to lists, but usually they are thought as containing heterogenuous kinds of information. So while lists are all the same type, tuples are often different types. You can index elements of a tuple the same way you can access elements of a list."
   ]
  },
  {
   "cell_type": "code",
   "execution_count": null,
   "metadata": {},
   "outputs": [],
   "source": [
    "## Building, Street Number, Street Name\n",
    "bissell = (\"Bissell\", 140, \"St. George\") \n",
    "bissell[1]"
   ]
  },
  {
   "cell_type": "markdown",
   "metadata": {},
   "source": [
    "## Loops\n",
    "\n",
    "If we have a data structure where we want to have a look at every element of the structure, we can repeat the task using a *loop*. The most common loop we'll use in this course is the *for* loop, and more specifically the *foreach* loop.\n",
    "\n",
    "Say we want to print 10 plus the number for every number in our list. We can do the following."
   ]
  },
  {
   "cell_type": "code",
   "execution_count": null,
   "metadata": {
    "collapsed": true
   },
   "outputs": [],
   "source": [
    "for item in list_4:\n",
    "    print(item + 10)"
   ]
  },
  {
   "cell_type": "markdown",
   "metadata": {},
   "source": [
    "This works the same for tuples. But, we have to be careful because tuples usually have different kinds of items in them. So we can't add 10 to each, or else we would get an error."
   ]
  },
  {
   "cell_type": "code",
   "execution_count": null,
   "metadata": {
    "collapsed": true
   },
   "outputs": [],
   "source": [
    "for item in bissell:\n",
    "    print(item)"
   ]
  },
  {
   "cell_type": "markdown",
   "metadata": {},
   "source": [
    "This looks a little different for dictionaries. We have to be able to separate the key from the value."
   ]
  },
  {
   "cell_type": "code",
   "execution_count": null,
   "metadata": {
    "collapsed": true
   },
   "outputs": [],
   "source": [
    "sep = \" \"\n",
    "for key, value in mayors.items():\n",
    "    print(key + sep + value + sep + \"has been the mayor\")"
   ]
  },
  {
   "cell_type": "markdown",
   "metadata": {},
   "source": [
    "### Exercise 3\n",
    "\n",
    "1. Create a list variable called <code>likert</code> with numbers from -3 to 3. I will use the notation [-3, 3] to denote this.\n",
    "2. Loop through the list and print out each number.\n",
    "3. Create a dictionary variable called <code>codebook</code> which has three elements: <code>q1</code>, <code>q2</code>, and <code>q3</code>. <code>q1</code> will be a list of numbers [-4, 0], <code>q2</code> will be a list [0, 4], and <code>q3</code> will be a list [4, 10].\n",
    "4. Calculate the sum of each element (that is, `q1`, `q2`, and `q3`), in <code>codebook</code>."
   ]
  },
  {
   "cell_type": "markdown",
   "metadata": {},
   "source": [
    "## DataCamp assignment\n",
    "\n",
    "For the next class, I have assigned a course, Introduction to Python for Data Science, on DataCamp. This should take at most four hours to complete. By the end, however, you should be well-equipped for handling many if not most basic Python tasks which we will use in this class."
   ]
  }
 ],
 "metadata": {
  "anaconda-cloud": {},
  "kernelspec": {
   "display_name": "Python 3",
   "language": "python",
   "name": "python3"
  },
  "language_info": {
   "codemirror_mode": {
    "name": "ipython",
    "version": 3
   },
   "file_extension": ".py",
   "mimetype": "text/x-python",
   "name": "python",
   "nbconvert_exporter": "python",
   "pygments_lexer": "ipython3",
   "version": "3.6.3"
  }
 },
 "nbformat": 4,
 "nbformat_minor": 1
}
